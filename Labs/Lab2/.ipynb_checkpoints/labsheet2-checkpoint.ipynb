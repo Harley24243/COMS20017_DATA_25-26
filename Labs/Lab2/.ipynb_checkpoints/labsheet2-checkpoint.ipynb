{
 "cells": [
  {
   "cell_type": "markdown",
   "metadata": {},
   "source": [
    "# Lab 2: Introduction to Python and Jupyter Notebooks, Part II\n",
    "\n",
    "In this lab session we will continue our introduction to Python/NumPy/Matplotlib. We will see how to perform some basic operation on vectors, matrices, and a special type of matrix, the *image*. \n",
    "\n",
    "As usual, before we start, we need to import the needed libraries and set some useful plotting parameters. We can do this by running the code cell below."
   ]
  },
  {
   "cell_type": "code",
   "execution_count": 1,
   "metadata": {},
   "outputs": [],
   "source": [
    "from __future__ import print_function # to avoid issues between Python 2 and 3 printing\n",
    "\n",
    "import numpy as np\n",
    "from scipy import stats\n",
    "from skimage import data, io, color, transform, exposure\n",
    "import matplotlib.pyplot as plt\n",
    "\n",
    "# show matplotlib figures inline\n",
    "%matplotlib inline"
   ]
  },
  {
   "cell_type": "code",
   "execution_count": 2,
   "metadata": {},
   "outputs": [],
   "source": [
    "# By default we set figures to be 6\"x4\" on a 110 dots per inch (DPI) screen \n",
    "# (adjust DPI if you have a high res screen!)\n",
    "plt.rc('figure', figsize=(6, 4), dpi=110)\n",
    "plt.rc('font', size=10)"
   ]
  },
  {
   "cell_type": "markdown",
   "metadata": {},
   "source": [
    "You'll notice the line [`%matplotlib inline`](https://ipython.readthedocs.io/en/stable/interactive/magics.html#magic-matplotlib) looks very different to all other python code so far. This is a special command just for jupyter notebooks which will plot the figures inline and doesn't require a call to [`plt.show()`](https://matplotlib.org/api/_as_gen/matplotlib.pyplot.show.html)."
   ]
  },
  {
   "cell_type": "markdown",
   "metadata": {},
   "source": [
    "## 1. Functions \n",
    "\n",
    "Let's start creating a function called `test_normal(n, mean_dist, var_dist)` that generates a *random sequence* of `n` numbers from the normal distribution $\\mathcal{N}(\\mu, \\sigma^2)$ and returns the *mean* and *var* of the *sequence*. \n",
    "\n",
    "### Default Value Parameters\n",
    "Python allows you to have default values for parameters if you want them to be optional. For example if we define the function as `test_normal(n=100, mean_dist=5.0, var_dist=2.0)` then we can actually call the function using `test_normal()` and pass no parameters. We could also call the function using `test_normal(var_dist=10, mean_dist=0.5)`. You can find more info [here](https://www.programiz.com/python-programming/function-argument).\n",
    "\n",
    "Write the function so that when no parameters are passed it generates a sequence of 10000 elements from the distribution $\\mathcal{N}(0, 1)$. \n",
    "\n",
    "Call the function multiple times with no arguments and observe the output.\n",
    "\n",
    "Hint: you can use the function [`numpy.random.randn`](https://docs.scipy.org/doc/numpy-1.15.1/reference/generated/numpy.random.randn.html) to generate a random sequence from the normal distribution."
   ]
  },
  {
   "cell_type": "code",
   "execution_count": 22,
   "metadata": {},
   "outputs": [
    {
     "name": "stdout",
     "output_type": "stream",
     "text": [
      "(np.float64(1.2118913177506887), np.float64(10.039394013606316))\n"
     ]
    }
   ],
   "source": [
    "import math\n",
    "\n",
    "# write your code here\n",
    "def test_normal(n=100, mean_dist=5.0, var_dist=2.0):\n",
    "    sq = math.sqrt(var_dist) * np.random.randn(n) + mean_dist\n",
    "    return np.mean(sq), np.var(sq)\n",
    "\n",
    "print(test_normal(var_dist=10, mean_dist=0, n=5))"
   ]
  },
  {
   "cell_type": "markdown",
   "metadata": {},
   "source": [
    "### Play now a little with the parameters of the function. \n",
    "\n",
    "- What do you observe when you create a sequence with a very small number of elements? \n",
    "- What happens when the sequence contains a very large number of elements instead?"
   ]
  },
  {
   "cell_type": "markdown",
   "metadata": {},
   "source": [
    "## 2. 2D Normal distribution\n",
    "\n",
    "Given the following 2D normal distribution $\\mathcal{N}(\\mathbf{\\mu},\\mathbf{C})$ with:\n",
    "$$\n",
    "\\mathbf{\\mu}=\\left [ \\begin{array}{c}2\\\\2\\end{array}\\right ] \\;\\;\\;\\;\\;\n",
    "\\mathbf{C}=\\left [ \\begin{array}{cc}4& 2\\\\2& 6\\end{array}\\right ] \n",
    "$$\n",
    "\n",
    "Estimate the probability that the following vectors:\n",
    "\n",
    "- $x_1 = (1, 2)$\n",
    "- $x_2 = (2,8)$\n",
    "- $x_3 = (5,4)$ \n",
    "\n",
    "are sampled from the distribution. Hint: use SciPy's function [`stats.multivariate_normal.pdf`](https://docs.scipy.org/doc/scipy/reference/generated/scipy.stats.multivariate_normal.html)."
   ]
  },
  {
   "cell_type": "code",
   "execution_count": 23,
   "metadata": {},
   "outputs": [
    {
     "data": {
      "text/plain": [
       "array([0.03063098, 0.0009724 , 0.01126851])"
      ]
     },
     "execution_count": 23,
     "metadata": {},
     "output_type": "execute_result"
    }
   ],
   "source": [
    "# write your code here\n",
    "mean = np.array([2, 2])\n",
    "cov = np.array([[4, 2], [2, 6]])\n",
    "x = np.array([[1, 2], [2, 8], [5, 4]])\n",
    "p = stats.multivariate_normal.pdf(x, mean=mean, cov=cov); p"
   ]
  },
  {
   "cell_type": "markdown",
   "metadata": {},
   "source": [
    "### Observe the obtained values. Which vector has the highest likelihood? Why?"
   ]
  },
  {
   "cell_type": "markdown",
   "metadata": {},
   "source": [
    "## 3. Random vectors\n",
    "\n",
    "Generate a sequence of 100 random vectors from the 2D distribution above using the function [`stats.multivariate_normal.rvs`](https://docs.scipy.org/doc/scipy/reference/generated/scipy.stats.multivariate_normal.html)."
   ]
  },
  {
   "cell_type": "code",
   "execution_count": 24,
   "metadata": {
    "scrolled": true
   },
   "outputs": [
    {
     "data": {
      "text/plain": [
       "array([[-0.51131374,  0.43191906],\n",
       "       [ 0.16534908,  0.53213452],\n",
       "       [-0.17795031,  3.02002106],\n",
       "       [ 3.38326486,  3.8629423 ],\n",
       "       [ 3.99500653,  5.23720322],\n",
       "       [ 1.10585816,  0.45040894],\n",
       "       [ 3.72516398,  1.82074836],\n",
       "       [ 1.41313583, -3.10011113],\n",
       "       [ 1.74239367,  2.02061934],\n",
       "       [-0.70177692,  2.894257  ],\n",
       "       [ 2.94283536,  2.57913952],\n",
       "       [ 7.36197941,  2.50148744],\n",
       "       [ 0.34062378, -3.13736437],\n",
       "       [ 3.90495137,  0.14117167],\n",
       "       [ 4.51144716, -0.85817459],\n",
       "       [ 5.84254125,  5.58101709],\n",
       "       [ 1.234225  ,  2.89948904],\n",
       "       [ 1.40244988, -0.51424032],\n",
       "       [-1.10878619,  0.56881013],\n",
       "       [ 2.29286154,  0.69806977],\n",
       "       [ 3.09678804,  5.02155982],\n",
       "       [ 0.5460765 ,  0.98184017],\n",
       "       [ 1.75478838,  3.2808394 ],\n",
       "       [ 0.85888285,  1.34457271],\n",
       "       [ 1.86503257,  3.12209239],\n",
       "       [ 2.83367861,  1.22199438],\n",
       "       [ 4.74469682,  0.59984467],\n",
       "       [-0.71486643,  0.09443787],\n",
       "       [-1.01708783,  2.42035194],\n",
       "       [ 4.05379768,  2.54933004],\n",
       "       [-0.3848146 ,  5.33550233],\n",
       "       [ 2.77727752, -0.78844255],\n",
       "       [ 3.22097071,  1.97000278],\n",
       "       [ 4.34031955,  4.68694832],\n",
       "       [ 4.05134355,  3.64754871],\n",
       "       [ 4.03863467,  1.42025219],\n",
       "       [ 3.26893214,  1.51239369],\n",
       "       [ 2.76719134,  5.93130561],\n",
       "       [ 2.2144258 ,  2.26396579],\n",
       "       [ 5.63059813,  8.43162703],\n",
       "       [ 3.29578188,  0.59326872],\n",
       "       [ 5.31903775,  0.9178366 ],\n",
       "       [ 3.37087783,  2.63306583],\n",
       "       [ 4.8165202 ,  6.02321761],\n",
       "       [ 2.17374661,  3.57594537],\n",
       "       [-0.62908302,  1.41699859],\n",
       "       [ 1.04657673,  2.90638762],\n",
       "       [ 4.38164293, -2.04969589],\n",
       "       [ 1.45269406,  0.57975892],\n",
       "       [ 3.31351788, -1.74942423],\n",
       "       [ 1.0525382 ,  0.06261671],\n",
       "       [-0.05699706,  0.11892043],\n",
       "       [ 2.96329478, -0.05703403],\n",
       "       [ 0.75931696,  2.43979001],\n",
       "       [ 3.65343729, -1.18635354],\n",
       "       [ 4.3323701 ,  7.72236348],\n",
       "       [ 1.444103  ,  0.67170374],\n",
       "       [ 4.28618622,  4.08606017],\n",
       "       [ 2.37892063,  2.08415607],\n",
       "       [ 0.85850448,  0.51839443],\n",
       "       [ 2.71378427,  2.65148269],\n",
       "       [ 1.49176507,  2.51439982],\n",
       "       [ 3.4814863 ,  0.6082552 ],\n",
       "       [ 2.4356536 ,  6.13896219],\n",
       "       [ 1.14168229,  3.3585841 ],\n",
       "       [ 2.40107242,  3.54719455],\n",
       "       [ 2.57867731,  4.69906251],\n",
       "       [ 3.73897733,  0.33935283],\n",
       "       [ 1.52962024,  2.60483156],\n",
       "       [ 2.51843016,  1.41462714],\n",
       "       [ 2.19364655,  3.8721635 ],\n",
       "       [ 3.29949399,  4.57195534],\n",
       "       [ 2.64394654,  2.79862068],\n",
       "       [ 0.5003365 ,  2.58063087],\n",
       "       [ 1.42327195,  1.15693318],\n",
       "       [ 2.31122302,  2.44814552],\n",
       "       [ 1.68359181,  0.48924799],\n",
       "       [ 8.02124412,  5.2910313 ],\n",
       "       [ 3.95074329,  1.26292379],\n",
       "       [-0.56807207, -0.02681993],\n",
       "       [ 3.09115567,  0.7585411 ],\n",
       "       [ 4.20590667,  1.59370785],\n",
       "       [ 1.51190398,  1.13540262],\n",
       "       [ 0.93969925,  1.48459634],\n",
       "       [ 2.90620469,  1.01320042],\n",
       "       [ 5.77934576, -0.57728944],\n",
       "       [ 7.92454151,  4.74125378],\n",
       "       [ 1.26017904,  2.59616151],\n",
       "       [-0.2513804 ,  0.59835169],\n",
       "       [ 4.78425435,  1.63920914],\n",
       "       [ 1.19520705,  2.93095758],\n",
       "       [ 4.45384785,  5.09755809],\n",
       "       [ 0.28897364,  1.95063367],\n",
       "       [-2.62787584,  0.60781988],\n",
       "       [ 1.7544557 ,  2.92381429],\n",
       "       [ 2.89187232,  4.43353182],\n",
       "       [-0.7247782 ,  0.4981943 ],\n",
       "       [-1.06886297, -0.06234367],\n",
       "       [ 4.48584912,  0.89948225],\n",
       "       [ 2.17186059, -0.2568155 ]])"
      ]
     },
     "execution_count": 24,
     "metadata": {},
     "output_type": "execute_result"
    }
   ],
   "source": [
    "# write your code here\n",
    "rv = stats.multivariate_normal.rvs(mean=mean, cov=cov, size=100); rv"
   ]
  },
  {
   "cell_type": "markdown",
   "metadata": {},
   "source": [
    "Create now a scatter plot of the sequence using the function [`plt.scatter`](https://matplotlib.org/api/_as_gen/matplotlib.pyplot.scatter.html). Compute the mean and covariance for the sequence using the functions [`np.mean`](https://docs.scipy.org/doc/numpy-1.15.0/reference/generated/numpy.mean.html) (consider the `axis` parameter) and [`np.cov`](https://docs.scipy.org/doc/numpy-1.15.0/reference/generated/numpy.cov.html) (consider the `rowvar` parameter)."
   ]
  },
  {
   "cell_type": "code",
   "execution_count": 43,
   "metadata": {},
   "outputs": [
    {
     "name": "stdout",
     "output_type": "stream",
     "text": [
      "[2.37486848 2.00313045]\n",
      "[[4.06457395 1.32327287]\n",
      " [1.32327287 4.57798897]]\n"
     ]
    }
   ],
   "source": [
    "# write your code here\n",
    "rvt = np.transpose(rv)\n",
    "plt.scatter(rvt[0], rvt[1], s=5, color = 'hotpink')\n",
    "# plt.show()\n",
    "\n",
    "print(np.mean(rv, axis=0))\n",
    "print(np.cov(rv, rowvar=False))"
   ]
  },
  {
   "cell_type": "markdown",
   "metadata": {},
   "source": [
    "Let's increase now the length of the sequence to 4000. Plot the new data and compute the new mean and covariance."
   ]
  },
  {
   "cell_type": "code",
   "execution_count": 44,
   "metadata": {},
   "outputs": [
    {
     "data": {
      "image/png": "[encoded data removed]",
      "text/plain": [
       "<Figure size 660x440 with 1 Axes>"
      ]
     },
     "metadata": {},
     "output_type": "display_data"
    },
    {
     "name": "stdout",
     "output_type": "stream",
     "text": [
      "[1.97350505 2.04556498]\n",
      "[[3.96931337 2.05150799]\n",
      " [2.05150799 6.30830976]]\n"
     ]
    }
   ],
   "source": [
    "# put your code here\n",
    "rv2 = stats.multivariate_normal.rvs(mean=mean, cov=cov, size=4000)\n",
    "rvt2 = np.transpose(rv2)\n",
    "plt.scatter(rvt2[0], rvt2[1], s=1, color = '#88c999')\n",
    "plt.show()\n",
    "\n",
    "print(np.mean(rv2, axis=0))\n",
    "print(np.cov(rv2, rowvar=False))"
   ]
  },
  {
   "cell_type": "markdown",
   "metadata": {},
   "source": [
    "### Compare the two scatter plots above. What do you observe?"
   ]
  },
  {
   "cell_type": "markdown",
   "metadata": {},
   "source": [
    "## 4. Matrix Inverse\n",
    "\n",
    "Create a function that takes a 2x2 matrix and returns its inverse.\n",
    "\n",
    "Recall that the inverse of a 2x2 matrix\n",
    "$$\n",
    "\\mathbf{A}=\\left [ \\begin{array}{cc}\n",
    "    a & b \\\\\n",
    "    c & d\\end{array}\\right ]\n",
    "$$\n",
    "\n",
    "is\n",
    "\n",
    "$$\n",
    "\\mathbf{A}^{-1} = \n",
    "    \\frac{1}{\\det(\\mathbf{A})} \\left [ \\begin{array}{cc}\n",
    "        d & -b \\\\\n",
    "        -c & a\\end{array}\\right ]\n",
    "$$\n",
    "\n",
    "where\n",
    "\n",
    "$$\\det{(\\mathbf{A})} = ad - bc$$"
   ]
  },
  {
   "cell_type": "markdown",
   "metadata": {},
   "source": [
    "### Before coding, answer the following question:\n",
    "\n",
    "Given the definition above, are there any conditions you need to check before calculating the inverse of a matrix in your function?"
   ]
  },
  {
   "cell_type": "code",
   "execution_count": null,
   "metadata": {},
   "outputs": [],
   "source": [
    "# write your code here\n"
   ]
  },
  {
   "cell_type": "markdown",
   "metadata": {},
   "source": [
    "Call now the function passing different random 2x2 matrices.\n",
    "\n",
    "Try also your function with a singular 2x2 matrix and a random 2x3 matrix and make sure your code does not crash!"
   ]
  },
  {
   "cell_type": "code",
   "execution_count": null,
   "metadata": {},
   "outputs": [],
   "source": [
    "# write your code here"
   ]
  },
  {
   "cell_type": "markdown",
   "metadata": {},
   "source": [
    "Obviously, there was already a function in NumPy to calculate the inverse of a matrix, which is the function [`np.linalg.inv`](https://docs.scipy.org/doc/numpy/reference/generated/numpy.linalg.inv.html#numpy.linalg.inv). \n",
    "\n",
    "Compare now the results obtained with your function with those obtained with the NumPy one. Note that if you coded the function right, you should get the exact same results!"
   ]
  },
  {
   "cell_type": "code",
   "execution_count": null,
   "metadata": {},
   "outputs": [],
   "source": [
    "# write your code here"
   ]
  },
  {
   "cell_type": "markdown",
   "metadata": {},
   "source": [
    "## 5. Loading images with Python\n",
    "\n",
    "We will use the [scikit-image](https://scikit-image.org/) library to load, show and perform some operation on images. \n",
    "\n",
    "We have already imported all the needed functions in the first code cell of this notebook.\n",
    "\n",
    "Let's now load the image `flower.png` using the function [`io.imread`](http://scikit-image.org/docs/dev/api/skimage.io.html#skimage.io.imread) and let's display the image using the function [`io.imshow`](http://scikit-image.org/docs/dev/api/skimage.io.html#skimage.io.imshow)."
   ]
  },
  {
   "cell_type": "code",
   "execution_count": null,
   "metadata": {},
   "outputs": [],
   "source": [
    "# write your code here"
   ]
  },
  {
   "cell_type": "markdown",
   "metadata": {},
   "source": [
    "Remember that images can be interpreted as *matrices*. In fact, the scikit-image library stores images as NumPy arrays. \n",
    "\n",
    "Such arrays are either 2D, for grey scale images, or 3D, for colour images.\n",
    "\n",
    "In the grey scale case, the 2D array simply stores the intensity value of each pixel. Usually values are in the range `[0, 255]` (8 bit images), but other ranges are also possible, such as `[0, 1]`.\n",
    "\n",
    "In the colour case, the third dimension represents one of the three `[R, G, B]` colour channels. Each channel can be seen as a grey scale image which stores the intensity value of the corresponding colour. By combining the three colours we can obtain all the [other colours](https://en.wikipedia.org/wiki/RGB_color_model).\n",
    "\n",
    "#### Note:\n",
    "* A number of different colour models exist, such as CMY or HSL. Depending on the used colour model, pixels in matrices are organised in different ways. Here we assume we are dealing only with the RGB colour model, which is the predominant model for monitors, and thus assume our matrices are in the form seen above. You can learn more about this topic [here](https://en.wikipedia.org/wiki/Color_space) and [here](https://en.wikipedia.org/wiki/Color_model#CMYK_color_model)\n",
    "\n",
    "We can check the size/shape of an image/matrix by using the property `shape` of NumPy's arrays. "
   ]
  },
  {
   "cell_type": "code",
   "execution_count": null,
   "metadata": {},
   "outputs": [],
   "source": [
    "print('Image shape:', im_flower.shape)"
   ]
  },
  {
   "cell_type": "markdown",
   "metadata": {},
   "source": [
    "In our case, the flower image has resolution 1440x900. Note how rows represent the height of the image, while columns represent its width. Since our image is in colours, we have a 3D array."
   ]
  },
  {
   "cell_type": "markdown",
   "metadata": {},
   "source": [
    "## 6. Image manipulation\n",
    "\n",
    "Let's convert our colour image to a grey scale one using the function [`color.rgb2gray`](http://scikit-image.org/docs/dev/api/skimage.color.html#skimage.color.rgb2gray). Let's then change the size of the image to half its current size using the function [`transform.resize`](http://scikit-image.org/docs/dev/api/skimage.transform.html#skimage.transform.resize).\n",
    "\n",
    "Print both images' size to check your operation was perfomed correctly."
   ]
  },
  {
   "cell_type": "code",
   "execution_count": null,
   "metadata": {},
   "outputs": [],
   "source": [
    "# write your code here"
   ]
  },
  {
   "cell_type": "markdown",
   "metadata": {},
   "source": [
    "## 7. Image interpretation\n",
    "\n",
    "Calculate the histogram of your grey scale image's pixel values using the function [`exposure.histogram`](http://scikit-image.org/docs/dev/api/skimage.exposure.html#skimage.exposure.histogram).\n",
    "\n",
    "You can use the following function `imhist` to plot the histogram."
   ]
  },
  {
   "cell_type": "code",
   "execution_count": null,
   "metadata": {},
   "outputs": [],
   "source": [
    "def imhist(img_hist):\n",
    "    fig, ax = plt.subplots()\n",
    "    ax.bar( range(256), img_hist[0], width=1 )\n",
    "    ax.set_xlim(0, 256)"
   ]
  },
  {
   "cell_type": "markdown",
   "metadata": {},
   "source": [
    "### What can we tell about the image by looking at the histogram? \n",
    "\n",
    "Recall we plotted the histogram of the grey scale image, and recall that our pixels have values ranging from 0 (black) to 255 (white)."
   ]
  },
  {
   "cell_type": "markdown",
   "metadata": {},
   "source": [
    "## 8. Image Interpretation  II\n",
    "\n",
    "Use the function [`exposure.equalize_hist`](http://scikit-image.org/docs/dev/api/skimage.exposure.html#skimage.exposure.equalize_hist) to [equalize](https://en.wikipedia.org/wiki/Histogram_equalization) the image. Show the image and its corresponding histogram."
   ]
  },
  {
   "cell_type": "code",
   "execution_count": null,
   "metadata": {},
   "outputs": [],
   "source": [
    "# write your code here"
   ]
  },
  {
   "cell_type": "markdown",
   "metadata": {},
   "source": [
    "### Observe the resulting image and its histogram. What can we tell about the equalised image? "
   ]
  }
 ],
 "metadata": {
  "kernelspec": {
   "display_name": "Python 3 (ipykernel)",
   "language": "python",
   "name": "python3"
  },
  "language_info": {
   "codemirror_mode": {
    "name": "ipython",
    "version": 3
   },
   "file_extension": ".py",
   "mimetype": "text/x-python",
   "name": "python",
   "nbconvert_exporter": "python",
   "pygments_lexer": "ipython3",
   "version": "3.13.5"
  }
 },
 "nbformat": 4,
 "nbformat_minor": 4
}
